{
 "cells": [
  {
   "cell_type": "code",
   "execution_count": 19,
   "metadata": {},
   "outputs": [],
   "source": [
    "import tkinter as tk  \n",
    "from tkinter import ttk\n",
    "from covid import Covid\n",
    "covid = Covid()\n",
    "win = tk.Tk()\n",
    "win.geometry(\"400x400\")\n",
    "win.title(\"Covid Tracker-Based on Country Name\")  \n",
    "lbl = ttk.Label(win, text = \"Enter the country name:\").grid(column = 3, row = 0) \n",
    "\n",
    "def click():   \n",
    "    l = []\n",
    "    cases_number = covid.get_status_by_country_name(name.get())\n",
    "    for i in cases_number:\n",
    "        s = i,\" - \",cases_number[i]\n",
    "        l.append(s)\n",
    "    ttk.Label(win, text = \"Covid'19 Details of the country- \").grid(column = 5, row = 12) \n",
    "    for i in range(len(l)):\n",
    "        ttk.Label(win, text = l[i]).grid(column = 5, row = 12 + i) \n",
    "name = tk.StringVar()  \n",
    "nameEntered = ttk.Entry(win, width = 15, textvariable = name).grid(column = 5, row = 0)# Button widget  \n",
    "button = ttk.Button(win, text = \"Get Details\", command = click).grid(column = 5, row = 5)  \n",
    "win.mainloop() \n"
   ]
  },
  {
   "cell_type": "code",
   "execution_count": null,
   "metadata": {},
   "outputs": [],
   "source": []
  }
 ],
 "metadata": {
  "kernelspec": {
   "display_name": "Python 3",
   "language": "python",
   "name": "python3"
  },
  "language_info": {
   "codemirror_mode": {
    "name": "ipython",
    "version": 3
   },
   "file_extension": ".py",
   "mimetype": "text/x-python",
   "name": "python",
   "nbconvert_exporter": "python",
   "pygments_lexer": "ipython3",
   "version": "3.7.6"
  }
 },
 "nbformat": 4,
 "nbformat_minor": 4
}
